{
  "cells": [
    {
      "cell_type": "markdown",
      "metadata": {
        "id": "view-in-github",
        "colab_type": "text"
      },
      "source": [
        "<a href=\"https://colab.research.google.com/github/bdsrca/BankCustomerSegmentation/blob/main/Bank_Customer_Segmentation.ipynb\" target=\"_parent\"><img src=\"https://colab.research.google.com/assets/colab-badge.svg\" alt=\"Open In Colab\"/></a>"
      ]
    },
    {
      "cell_type": "markdown",
      "metadata": {
        "id": "M27qF7CTrBqc"
      },
      "source": [
        "# TASK #1: UNDERSTAND THE PROBLEM STATEMENT AND BUSINESS CASE"
      ]
    },
    {
      "cell_type": "markdown",
      "metadata": {
        "id": "D3yvh8kFhfKV"
      },
      "source": [
        "![image.png](attachment:image.png)"
      ]
    },
    {
      "cell_type": "markdown",
      "metadata": {
        "id": "YE77jvSihfKX"
      },
      "source": [
        "![image.png](attachment:image.png)"
      ]
    },
    {
      "cell_type": "markdown",
      "metadata": {
        "id": "Aiy0Xb2BHy9c"
      },
      "source": [
        "Data Source: https://www.kaggle.com/arjunbhasin2013/ccdata"
      ]
    },
    {
      "cell_type": "markdown",
      "metadata": {
        "id": "zKmFmyaGunc7"
      },
      "source": [
        "# TASK #2: IMPORT LIBRARIES AND DATASETS"
      ]
    },
    {
      "cell_type": "code",
      "execution_count": null,
      "metadata": {
        "id": "S0Cx3743urFY"
      },
      "outputs": [],
      "source": [
        "import pandas as pd\n",
        "import numpy as np\n",
        "import seaborn as sns\n",
        "import matplotlib.pyplot as plt\n",
        "from sklearn.preprocessing import StandardScaler, normalize\n",
        "from sklearn.cluster import KMeans\n",
        "from sklearn.decomposition import PCA\n",
        "from jupyterthemes import jtplot\n",
        "jtplot.style(theme='monokai', context='notebook', ticks=True, grid=False) \n",
        "# setting the style of the notebook to be monokai theme  \n",
        "# this line of code is important to ensure that we are able to see the x and y axes clearly\n",
        "# If you don't run this code line, you will notice that the xlabel and ylabel on any plot is black on black and it will be hard to see them. \n"
      ]
    },
    {
      "cell_type": "code",
      "execution_count": null,
      "metadata": {
        "id": "tjIiJdM4u1IE"
      },
      "outputs": [],
      "source": [
        "# You have to include the full link to the csv file containing your dataset\n",
        "creditcard_df = pd.read_csv('Marketing_data.csv')\n",
        "\n",
        "# CUSTID: Identification of Credit Card holder \n",
        "# BALANCE: Balance amount left in customer's account to make purchases\n",
        "# BALANCE_FREQUENCY: How frequently the Balance is updated, score between 0 and 1 (1 = frequently updated, 0 = not frequently updated)\n",
        "# PURCHASES: Amount of purchases made from account\n",
        "# ONEOFFPURCHASES: Maximum purchase amount done in one-go\n",
        "# INSTALLMENTS_PURCHASES: Amount of purchase done in installment\n",
        "# CASH_ADVANCE: Cash in advance given by the user\n",
        "# PURCHASES_FREQUENCY: How frequently the Purchases are being made, score between 0 and 1 (1 = frequently purchased, 0 = not frequently purchased)\n",
        "# ONEOFF_PURCHASES_FREQUENCY: How frequently Purchases are happening in one-go (1 = frequently purchased, 0 = not frequently purchased)\n",
        "# PURCHASES_INSTALLMENTS_FREQUENCY: How frequently purchases in installments are being done (1 = frequently done, 0 = not frequently done)\n",
        "# CASH_ADVANCE_FREQUENCY: How frequently the cash in advance being paid\n",
        "# CASH_ADVANCE_TRX: Number of Transactions made with \"Cash in Advance\"\n",
        "# PURCHASES_TRX: Number of purchase transactions made\n",
        "# CREDIT_LIMIT: Limit of Credit Card for user\n",
        "# PAYMENTS: Amount of Payment done by user\n",
        "# MINIMUM_PAYMENTS: Minimum amount of payments made by user  \n",
        "# PRC_FULL_PAYMENT: Percent of full payment paid by user\n",
        "# TENURE: Tenure of credit card service for user"
      ]
    },
    {
      "cell_type": "code",
      "execution_count": null,
      "metadata": {
        "id": "q4_wPDKCu5Uc",
        "scrolled": true
      },
      "outputs": [],
      "source": [
        "creditcard_df"
      ]
    },
    {
      "cell_type": "code",
      "execution_count": null,
      "metadata": {
        "id": "hMq3-KWOx0e1"
      },
      "outputs": [],
      "source": [
        "# Let's apply info and get additional insights on our dataframe\n",
        "# 18 features with 8950 points  "
      ]
    },
    {
      "cell_type": "markdown",
      "metadata": {
        "id": "880-KbEzhfKc"
      },
      "source": [
        "MINI CHALLENGE #1: \n",
        " - What is the average, minimum and maximum \"BALANCE\" amount?\n"
      ]
    },
    {
      "cell_type": "code",
      "execution_count": null,
      "metadata": {
        "id": "d3zXKzJvhfKc"
      },
      "outputs": [],
      "source": [
        ""
      ]
    },
    {
      "cell_type": "code",
      "execution_count": null,
      "metadata": {
        "id": "s0E9xPLdx2Ok",
        "scrolled": false
      },
      "outputs": [],
      "source": [
        "# Let's apply describe() and get more statistical insights on our dataframe\n",
        "# Mean balance is $1564 \n",
        "# Balance frequency is frequently updated on average ~0.9\n",
        "# Purchases average is $1000\n",
        "# one off purchase average is ~$600\n",
        "# Average purchases frequency is around 0.5\n",
        "# average ONEOFF_PURCHASES_FREQUENCY, PURCHASES_INSTALLMENTS_FREQUENCY, and CASH_ADVANCE_FREQUENCY are generally low\n",
        "# Average credit limit ~ 4500\n",
        "# Percent of full payment is 15%\n",
        "# Average tenure is 11 years"
      ]
    },
    {
      "cell_type": "markdown",
      "metadata": {
        "id": "JndFEp0ehfKd"
      },
      "source": [
        "MINI CHALLENGE #2: \n",
        "- Obtain the features (row) of the customer who made the maximim \"ONEOFF_PURCHASES\"\n",
        "- Obtain the features of the customer who made the maximum cash advance transaction? how many cash advance transactions did that customer make? how often did he/she pay their bill?"
      ]
    },
    {
      "cell_type": "code",
      "execution_count": null,
      "metadata": {
        "id": "yIVx1X_chfKe"
      },
      "outputs": [],
      "source": [
        ""
      ]
    },
    {
      "cell_type": "markdown",
      "metadata": {
        "id": "LlszUhNNyrl_"
      },
      "source": [
        "# TASK #3: VISUALIZE AND EXPLORE DATASET"
      ]
    },
    {
      "cell_type": "code",
      "execution_count": null,
      "metadata": {
        "id": "ICj3NLbqqmve"
      },
      "outputs": [],
      "source": [
        "# Let's see if we have any missing data, luckily we don't have many!\n",
        "sns.heatmap(creditcard_df.isnull(), yticklabels = False, cbar = False, cmap=\"Blues\")\n"
      ]
    },
    {
      "cell_type": "code",
      "execution_count": null,
      "metadata": {
        "id": "70XopgWwMmHG"
      },
      "outputs": [],
      "source": [
        "creditcard_df.isnull().sum()"
      ]
    },
    {
      "cell_type": "code",
      "execution_count": null,
      "metadata": {
        "id": "wboxbIPwT7Wi"
      },
      "outputs": [],
      "source": [
        "# Fill up the missing elements with mean of the 'MINIMUM_PAYMENT' \n",
        "creditcard_df.loc[(creditcard_df['MINIMUM_PAYMENTS'].isnull() == True), 'MINIMUM_PAYMENTS'] = creditcard_df['MINIMUM_PAYMENTS'].mean()\n"
      ]
    },
    {
      "cell_type": "markdown",
      "metadata": {
        "id": "tK1rMVmbhfKf"
      },
      "source": [
        "MINI CHALLENGE #3: \n",
        " - Fill out missing elements in the \"CREDIT_LIMIT\" column\n",
        " - Double check and make sure that no missing elements are present"
      ]
    },
    {
      "cell_type": "code",
      "execution_count": null,
      "metadata": {
        "id": "ciOq-cYxMw8P"
      },
      "outputs": [],
      "source": [
        ""
      ]
    },
    {
      "cell_type": "code",
      "execution_count": null,
      "metadata": {
        "id": "H-c9kqOSUU1t"
      },
      "outputs": [],
      "source": [
        ""
      ]
    },
    {
      "cell_type": "code",
      "execution_count": null,
      "metadata": {
        "id": "zFIXGFrucdCl"
      },
      "outputs": [],
      "source": [
        "# Let's see if we have duplicated entries in the data\n",
        "creditcard_df.duplicated().sum()"
      ]
    },
    {
      "cell_type": "code",
      "metadata": {
        "id": "onSLJRBtcohW"
      },
      "source": [
        "MINI CHALLENGE #4: \n",
        "- Drop Customer ID column 'CUST_ID' and make sure that the column has been removed from the dataframe"
      ],
      "execution_count": null,
      "outputs": []
    },
    {
      "cell_type": "code",
      "execution_count": null,
      "metadata": {
        "id": "13O0FoIihfKg"
      },
      "outputs": [],
      "source": [
        ""
      ]
    },
    {
      "cell_type": "code",
      "execution_count": null,
      "metadata": {
        "id": "PSzpvJgWcxnu"
      },
      "outputs": [],
      "source": [
        ""
      ]
    },
    {
      "cell_type": "code",
      "execution_count": null,
      "metadata": {
        "id": "QIw-jGI9NOCg"
      },
      "outputs": [],
      "source": [
        "n = len(creditcard_df.columns)\n",
        "n"
      ]
    },
    {
      "cell_type": "code",
      "execution_count": null,
      "metadata": {
        "id": "fIOb3930ONKS"
      },
      "outputs": [],
      "source": [
        "creditcard_df.columns"
      ]
    },
    {
      "cell_type": "code",
      "execution_count": null,
      "metadata": {
        "id": "rFmjikf6ONgu"
      },
      "outputs": [],
      "source": [
        "# distplot combines the matplotlib.hist function with seaborn kdeplot()\n",
        "# KDE Plot represents the Kernel Density Estimate\n",
        "# KDE is used for visualizing the Probability Density of a continuous variable. \n",
        "# KDE demonstrates the probability density at different values in a continuous variable. \n",
        "\n",
        "# Mean of balance is $1500\n",
        "# 'Balance_Frequency' for most customers is updated frequently ~1\n",
        "# For 'PURCHASES_FREQUENCY', there are two distinct group of customers\n",
        "# For 'ONEOFF_PURCHASES_FREQUENCY' and 'PURCHASES_INSTALLMENT_FREQUENCY' most users don't do one off puchases or installment purchases frequently \n",
        "# Very small number of customers pay their balance in full 'PRC_FULL_PAYMENT'~0\n",
        "# Credit limit average is around $4500\n",
        "# Most customers are ~11 years tenure\n",
        "\n",
        "plt.figure(figsize=(10,50))\n",
        "for i in range(len(creditcard_df.columns)):\n",
        "  plt.subplot(17, 1, i+1)\n",
        "  sns.distplot(creditcard_df[creditcard_df.columns[i]], kde_kws={\"color\": \"b\", \"lw\": 3, \"label\": \"KDE\"}, hist_kws={\"color\": \"g\"})\n",
        "  plt.title(creditcard_df.columns[i])\n",
        "\n",
        "plt.tight_layout()"
      ]
    },
    {
      "cell_type": "markdown",
      "metadata": {
        "id": "2033H4vEhfKh"
      },
      "source": [
        "MINI CHALLENGE #5: \n",
        "- Obtain the correlation matrix between features"
      ]
    },
    {
      "cell_type": "code",
      "execution_count": null,
      "metadata": {
        "id": "c6UiAqTkKD85"
      },
      "outputs": [],
      "source": [
        ""
      ]
    },
    {
      "cell_type": "code",
      "execution_count": null,
      "metadata": {
        "id": "zBy4m89a08Sj"
      },
      "outputs": [],
      "source": [
        ""
      ]
    },
    {
      "cell_type": "markdown",
      "metadata": {
        "id": "QRSLmofOqJ2X"
      },
      "source": [
        "# TASK #4: UNDERSTAND THE THEORY AND INTUITON BEHIND K-MEANS"
      ]
    },
    {
      "cell_type": "markdown",
      "metadata": {
        "id": "_blckauShfKi"
      },
      "source": [
        "![image.png](attachment:image.png)"
      ]
    },
    {
      "cell_type": "markdown",
      "metadata": {
        "id": "1TRkoRuChfKi"
      },
      "source": [
        "![image.png](attachment:image.png)"
      ]
    },
    {
      "cell_type": "markdown",
      "metadata": {
        "id": "50Nq3PLChfKi"
      },
      "source": [
        "![image.png](attachment:image.png)"
      ]
    },
    {
      "cell_type": "markdown",
      "metadata": {
        "id": "k3o5pVI-hfKi"
      },
      "source": [
        "MINI CHALLENGE #6: \n",
        "- Which of the following conditions could terminate the K-means clustering algorithm? (choose 2)\n",
        "    - K-means terminates after a fixed number of iterations is reached  \n",
        "    - K-means terminates when the number of clusters does not increase between iterations\n",
        "    - K-means terminates when the centroid locations do not change between iterations\n",
        "\n",
        "   \n"
      ]
    },
    {
      "cell_type": "code",
      "execution_count": null,
      "metadata": {
        "id": "Bq_mCtQZhfKj"
      },
      "outputs": [],
      "source": [
        ""
      ]
    },
    {
      "cell_type": "markdown",
      "metadata": {
        "id": "VimvdvoshfKj"
      },
      "source": [
        "# TASK #5: LEARN HOW TO OBTAIN THE OPTIMAL NUMBER OF CLUSTERS (ELBOW METHOD)"
      ]
    },
    {
      "cell_type": "markdown",
      "metadata": {
        "id": "szw5yMeShfKj"
      },
      "source": [
        "![image.png](attachment:image.png)"
      ]
    },
    {
      "cell_type": "markdown",
      "metadata": {
        "id": "KaCMpYuHhfKj"
      },
      "source": [
        "![image.png](attachment:image.png)"
      ]
    },
    {
      "cell_type": "markdown",
      "metadata": {
        "id": "4-UtKErjhfKj"
      },
      "source": [
        "![image.png](attachment:image.png)"
      ]
    },
    {
      "cell_type": "markdown",
      "metadata": {
        "id": "g89zxpPVhfKj"
      },
      "source": [
        "![image.png](attachment:image.png)"
      ]
    },
    {
      "cell_type": "markdown",
      "metadata": {
        "id": "Mj3hH9wNhfKj"
      },
      "source": [
        "![image.png](attachment:image.png)"
      ]
    },
    {
      "cell_type": "markdown",
      "metadata": {
        "id": "Y0GmpAjG3GiH"
      },
      "source": [
        "# TASK #6: FIND THE OPTIMAL NUMBER OF CLUSTERS USING ELBOW METHOD"
      ]
    },
    {
      "cell_type": "markdown",
      "metadata": {
        "id": "6cJZDKkikWOn"
      },
      "source": [
        "- The elbow method is a heuristic method of interpretation and validation of consistency within cluster analysis designed to help find the appropriate number of clusters in a dataset. \n",
        "- If the line chart looks like an arm, then the \"elbow\" on the arm is the value of k that is the best.\n",
        "- Source: \n",
        "  - https://en.wikipedia.org/wiki/Elbow_method_(clustering)\n",
        "  - https://www.geeksforgeeks.org/elbow-method-for-optimal-value-of-k-in-kmeans/"
      ]
    },
    {
      "cell_type": "code",
      "execution_count": null,
      "metadata": {
        "id": "axr926Btjyux"
      },
      "outputs": [],
      "source": [
        "# Let's scale the data first\n",
        "scaler = StandardScaler()\n",
        "creditcard_df_scaled = scaler.fit_transform(creditcard_df)"
      ]
    },
    {
      "cell_type": "code",
      "execution_count": null,
      "metadata": {
        "id": "9CJeasg4kHyP"
      },
      "outputs": [],
      "source": [
        "creditcard_df_scaled.shape"
      ]
    },
    {
      "cell_type": "code",
      "execution_count": null,
      "metadata": {
        "id": "FK5ggiVPsJE9"
      },
      "outputs": [],
      "source": [
        "creditcard_df_scaled"
      ]
    },
    {
      "cell_type": "code",
      "execution_count": null,
      "metadata": {
        "id": "1_nb-D8H3cK-"
      },
      "outputs": [],
      "source": [
        "# Index(['BALANCE', 'BALANCE_FREQUENCY', 'PURCHASES', 'ONEOFF_PURCHASES',\n",
        "#       'INSTALLMENTS_PURCHASES', 'CASH_ADVANCE', 'PURCHASES_FREQUENCY',\n",
        "#       'ONEOFF_PURCHASES_FREQUENCY', 'PURCHASES_INSTALLMENTS_FREQUENCY',\n",
        "#       'CASH_ADVANCE_FREQUENCY', 'CASH_ADVANCE_TRX', 'PURCHASES_TRX',\n",
        "#       'CREDIT_LIMIT', 'PAYMENTS', 'MINIMUM_PAYMENTS', 'PRC_FULL_PAYMENT',\n",
        "#       'TENURE'], dtype='object')\n",
        "\n",
        "\n",
        "\n",
        "# From this we can observe that, 4th cluster seems to be forming the elbow of the curve. \n",
        "# However, the values does not reduce linearly until 8th cluster. \n",
        "# Let's choose the number of clusters to be 7 or 8."
      ]
    },
    {
      "cell_type": "markdown",
      "metadata": {
        "id": "2hnsIrIDhfKl"
      },
      "source": [
        "MINI CHALLENGE #7:\n",
        " - Let's assume that our data only consists of the first 7 columns of \"creditcard_df_scaled\", what is the optimal number of clusters would be in this case? modify the code and rerun the cells. "
      ]
    },
    {
      "cell_type": "code",
      "execution_count": null,
      "metadata": {
        "id": "-PwmvGclhfKl"
      },
      "outputs": [],
      "source": [
        ""
      ]
    },
    {
      "cell_type": "markdown",
      "metadata": {
        "id": "m_jo7mJ4C8R9"
      },
      "source": [
        "# TASK #7: APPLY K-MEANS METHOD"
      ]
    },
    {
      "cell_type": "code",
      "execution_count": null,
      "metadata": {
        "id": "qwzY8rj0uV-a"
      },
      "outputs": [],
      "source": [
        "kmeans = KMeans(7)\n",
        "kmeans.fit(creditcard_df_scaled)\n",
        "labels = kmeans.labels_"
      ]
    },
    {
      "cell_type": "code",
      "execution_count": null,
      "metadata": {
        "id": "dShNNvg09zH3"
      },
      "outputs": [],
      "source": [
        "kmeans.cluster_centers_.shape"
      ]
    },
    {
      "cell_type": "code",
      "execution_count": null,
      "metadata": {
        "id": "VEiPOUJv9iFK"
      },
      "outputs": [],
      "source": [
        "cluster_centers = pd.DataFrame(data = kmeans.cluster_centers_, columns = [creditcard_df.columns])\n",
        "cluster_centers"
      ]
    },
    {
      "cell_type": "code",
      "execution_count": null,
      "metadata": {
        "id": "9ogiZbsGBBl8"
      },
      "outputs": [],
      "source": [
        "# In order to understand what these numbers mean, let's perform inverse transformation\n",
        "cluster_centers = scaler.inverse_transform(cluster_centers)\n",
        "cluster_centers = pd.DataFrame(data = cluster_centers, columns = [creditcard_df.columns])\n",
        "cluster_centers\n",
        "\n",
        "# First Customers cluster (Transactors): Those are customers who pay least amount of intrerest charges and careful with their money, Cluster with lowest balance ($104) and cash advance ($303), Percentage of full payment = 23%\n",
        "# Second customers cluster (revolvers) who use credit card as a loan (most lucrative sector): highest balance ($5000) and cash advance (~$5000), low purchase frequency, high cash advance frequency (0.5), high cash advance transactions (16) and low percentage of full payment (3%)\n",
        "# Third customer cluster (VIP/Prime): high credit limit $16K and highest percentage of full payment, target for increase credit limit and increase spending habits\n",
        "# Fourth customer cluster (low tenure): these are customers with low tenure (7 years), low balance \n"
      ]
    },
    {
      "cell_type": "code",
      "execution_count": null,
      "metadata": {
        "id": "kCuHRqBIusm7"
      },
      "outputs": [],
      "source": [
        "labels.shape # Labels associated to each data point"
      ]
    },
    {
      "cell_type": "code",
      "execution_count": null,
      "metadata": {
        "id": "Ywcls4cvu2lh"
      },
      "outputs": [],
      "source": [
        "labels.max()"
      ]
    },
    {
      "cell_type": "code",
      "execution_count": null,
      "metadata": {
        "id": "NPQIMB7Fu9f3"
      },
      "outputs": [],
      "source": [
        "labels.min()"
      ]
    },
    {
      "cell_type": "code",
      "execution_count": null,
      "metadata": {
        "id": "kgLSvv-6vHSs"
      },
      "outputs": [],
      "source": [
        "y_kmeans = kmeans.fit_predict(creditcard_df_scaled)\n",
        "y_kmeans\n"
      ]
    },
    {
      "cell_type": "code",
      "execution_count": null,
      "metadata": {
        "id": "OfMaZqUOqdJB"
      },
      "outputs": [],
      "source": [
        "# concatenate the clusters labels to our original dataframe\n",
        "creditcard_df_cluster = pd.concat([creditcard_df, pd.DataFrame({'cluster':labels})], axis = 1)\n",
        "creditcard_df_cluster.head()"
      ]
    },
    {
      "cell_type": "code",
      "execution_count": null,
      "metadata": {
        "id": "TYEhR6rvqwda"
      },
      "outputs": [],
      "source": [
        "# Plot the histogram of various clusters\n",
        "for i in creditcard_df.columns:\n",
        "  plt.figure(figsize = (35, 5))\n",
        "  for j in range(7):\n",
        "    plt.subplot(1,7,j+1)\n",
        "    cluster = creditcard_df_cluster[creditcard_df_cluster['cluster'] == j]\n",
        "    cluster[i].hist(bins = 20)\n",
        "    plt.title('{}    \\nCluster {} '.format(i,j))\n",
        "  \n",
        "  plt.show()\n",
        "\n"
      ]
    },
    {
      "cell_type": "markdown",
      "metadata": {
        "id": "IFlyLFAChfKp"
      },
      "source": [
        "MINI CHALLENGE #8:\n",
        " - Repeat the same procedure with 8 clusters instead of 7\n"
      ]
    },
    {
      "cell_type": "markdown",
      "metadata": {
        "id": "UVTd7FYLNCAE"
      },
      "source": [
        "# TASK 8: APPLY PRINCIPAL COMPONENT ANALYSIS AND VISUALIZE THE RESULTS"
      ]
    },
    {
      "cell_type": "markdown",
      "metadata": {
        "id": "0VbEucO9hfKp"
      },
      "source": [
        "![image.png](attachment:image.png)"
      ]
    },
    {
      "cell_type": "code",
      "execution_count": null,
      "metadata": {
        "id": "RgFq3h993cIz"
      },
      "outputs": [],
      "source": [
        "# Obtain the principal components \n"
      ]
    },
    {
      "cell_type": "code",
      "execution_count": null,
      "metadata": {
        "id": "ad3UQtPU0eHK"
      },
      "outputs": [],
      "source": [
        "# Create a dataframe with the two components\n",
        "pca_df = pd.DataFrame(data = principal_comp, columns =['pca1','pca2'])\n",
        "pca_df.head()"
      ]
    },
    {
      "cell_type": "code",
      "execution_count": null,
      "metadata": {
        "id": "q7gsGkEZvkYd"
      },
      "outputs": [],
      "source": [
        "# Concatenate the clusters labels to the dataframe\n",
        "pca_df = pd.concat([pca_df,pd.DataFrame({'cluster':labels})], axis = 1)\n",
        "pca_df.head()"
      ]
    },
    {
      "cell_type": "code",
      "execution_count": null,
      "metadata": {
        "id": "4KYt5SUrvneq"
      },
      "outputs": [],
      "source": [
        "plt.figure(figsize=(10,10))\n",
        "ax = sns.scatterplot(x=\"pca1\", y=\"pca2\", hue = \"cluster\", data = pca_df, palette =['red','green','blue','pink','yellow','gray','purple', 'black'])\n",
        "plt.show()"
      ]
    },
    {
      "cell_type": "markdown",
      "metadata": {
        "id": "ogTMGguJhfKq"
      },
      "source": [
        "MINI CHALLENGE #9: \n",
        " - Repeat task #7 and #8 with number of clusters = 7 and 4"
      ]
    },
    {
      "cell_type": "markdown",
      "metadata": {
        "id": "27OgYEJu9EFV"
      },
      "source": [
        "# EXCELLENT JOB! YOU SHOULD BE PROUD OF YOUR NEWLY ACQUIRED SKILLS"
      ]
    },
    {
      "cell_type": "markdown",
      "metadata": {
        "id": "vmZzG_jVhfKq"
      },
      "source": [
        "MINI CHALLENGE SOLUTIONS"
      ]
    },
    {
      "cell_type": "markdown",
      "metadata": {
        "id": "1i6g8sQQhfKq"
      },
      "source": [
        "MINI CHALLENGE #1"
      ]
    },
    {
      "cell_type": "code",
      "execution_count": null,
      "metadata": {
        "id": "q9G_D7eShfKq"
      },
      "outputs": [],
      "source": [
        "# Average, minimum and maximum balance amounts\n",
        "print('The average, minimum and maximum balance amount are:', creditcard_df['BALANCE'].mean(), creditcard_df['BALANCE'].min(), creditcard_df['BALANCE'].max())"
      ]
    },
    {
      "cell_type": "markdown",
      "metadata": {
        "id": "cgvkMLNrhfKq"
      },
      "source": [
        "MINI CHALLENGE #2"
      ]
    },
    {
      "cell_type": "code",
      "execution_count": null,
      "metadata": {
        "id": "qIZdDdX1hfKr"
      },
      "outputs": [],
      "source": [
        "# Let's see who made one off purchase of $40761!\n",
        "creditcard_df[creditcard_df['ONEOFF_PURCHASES'] == 40761.25]"
      ]
    },
    {
      "cell_type": "code",
      "execution_count": null,
      "metadata": {
        "id": "TvvNXnxxhfKr"
      },
      "outputs": [],
      "source": [
        "creditcard_df['CASH_ADVANCE'].max()"
      ]
    },
    {
      "cell_type": "code",
      "execution_count": null,
      "metadata": {
        "id": "bOpX4f-shfKr"
      },
      "outputs": [],
      "source": [
        "# Let's see who made cash advance of $47137!\n",
        "# This customer made 123 cash advance transactions!!\n",
        "# Never paid credit card in full\n",
        "\n",
        "creditcard_df[creditcard_df['CASH_ADVANCE'] == 47137.211760000006]\n"
      ]
    },
    {
      "cell_type": "markdown",
      "metadata": {
        "id": "H0amJidwhfKr"
      },
      "source": [
        "MINI CHALLENGE #3"
      ]
    },
    {
      "cell_type": "code",
      "execution_count": null,
      "metadata": {
        "id": "nPkdOtXzhfKr"
      },
      "outputs": [],
      "source": [
        "# Fill up the missing elements with mean of the 'CREDIT_LIMIT' \n",
        "creditcard_df.loc[(creditcard_df['CREDIT_LIMIT'].isnull() == True), 'CREDIT_LIMIT'] = creditcard_df['CREDIT_LIMIT'].mean()\n",
        "sns.heatmap(creditcard_df.isnull(), yticklabels = False, cbar = False, cmap=\"Blues\")"
      ]
    },
    {
      "cell_type": "markdown",
      "metadata": {
        "id": "F8ZBKdM2hfKr"
      },
      "source": [
        "MINI CHALLENGE #4"
      ]
    },
    {
      "cell_type": "code",
      "execution_count": null,
      "metadata": {
        "id": "ou89DJ9hhfKr"
      },
      "outputs": [],
      "source": [
        "# Let's drop Customer ID since it has no meaning here \n",
        "creditcard_df.drop(\"CUST_ID\", axis = 1, inplace= True)\n",
        "creditcard_df.head()"
      ]
    },
    {
      "cell_type": "markdown",
      "metadata": {
        "id": "h5G7KxC8hfKs"
      },
      "source": [
        "MINI CHALLENGE #5"
      ]
    },
    {
      "cell_type": "code",
      "execution_count": null,
      "metadata": {
        "id": "GlVfFarFhfKs"
      },
      "outputs": [],
      "source": [
        "correlations = creditcard_df.corr()\n",
        "f, ax = plt.subplots(figsize = (20, 20))\n",
        "sns.heatmap(correlations, annot = True)\n",
        "\n",
        "# 'PURCHASES' have high correlation between one-off purchases, 'installment purchases, purchase transactions, credit limit and payments. \n",
        "# Strong Positive Correlation between 'PURCHASES_FREQUENCY' and 'PURCHASES_INSTALLMENT_FREQUENCY'"
      ]
    },
    {
      "cell_type": "markdown",
      "metadata": {
        "id": "P-r3dzFNhfKs"
      },
      "source": [
        "MINI CHALLENGE #6: \n",
        "- Which of the following conditions could terminate the K-means clustering algorithm? (choose 2)\n",
        "    - K-means terminates after a fixed number of iterations is reached  (True)\n",
        "    - K-means terminates when the number of clusters does not increase between iterations (False)\n",
        "    - K-means terminates when the centroid locations do not change between iterations (True)\n"
      ]
    },
    {
      "cell_type": "markdown",
      "metadata": {
        "id": "E6cbaeWuhfKs"
      },
      "source": [
        "MINI CHALLENGE #7: "
      ]
    },
    {
      "cell_type": "code",
      "execution_count": null,
      "metadata": {
        "id": "COj3VzeBhfKs"
      },
      "outputs": [],
      "source": [
        "# code modification\n",
        "kmeans.fit(creditcard_df_scaled[:,:7])\n",
        "# optimal number of clusters would be = 5"
      ]
    },
    {
      "cell_type": "markdown",
      "metadata": {
        "id": "IYaH0UOGhfKs"
      },
      "source": [
        "MINI CHALLENGE #8 & #9:\n",
        " - simply change the values requested in the question and rerun the cells"
      ]
    }
  ],
  "metadata": {
    "colab": {
      "collapsed_sections": [],
      "name": "Bank_Customer_Segmentation.ipynb",
      "provenance": [],
      "include_colab_link": true
    },
    "kernelspec": {
      "display_name": "Python 3",
      "language": "python",
      "name": "python3"
    },
    "language_info": {
      "codemirror_mode": {
        "name": "ipython",
        "version": 3
      },
      "file_extension": ".py",
      "mimetype": "text/x-python",
      "name": "python",
      "nbconvert_exporter": "python",
      "pygments_lexer": "ipython3",
      "version": "3.7.6"
    }
  },
  "nbformat": 4,
  "nbformat_minor": 0
}